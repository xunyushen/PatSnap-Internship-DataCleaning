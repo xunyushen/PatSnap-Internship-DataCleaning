{
 "cells": [
  {
   "cell_type": "code",
   "execution_count": 51,
   "id": "5117a201",
   "metadata": {},
   "outputs": [
    {
     "data": {
      "text/plain": [
       "1223"
      ]
     },
     "execution_count": 51,
     "metadata": {},
     "output_type": "execute_result"
    }
   ],
   "source": [
    "import json\n",
    "import pandas as pd\n",
    "import os\n",
    "f_long_text = open(\"f_long_text.json\",\"w\",encoding='utf-8')\n",
    "file = \"long_text_2023-08-21-16-54-37.txt\"\n",
    "f = open(file,\"r\",encoding=\"utf-8\").read()\n",
    "file = json.loads(f)\n",
    "\n",
    "t_cn = file['doc:merged'][\"doc:cn\"][\"ns0:PatentDocumentAndRelated\"][\"ns0:BibliographicData\"][\"ns0:InventionTitle\"]['#text']\n",
    "a_cn = file['doc:merged'][\"doc:cn\"][\"ns0:PatentDocumentAndRelated\"][\"ns0:Abstract\"][\"ns2:Paragraphs\"][\"#text\"]\n",
    "\n",
    "t_en = file['doc:merged'][\"doc:en\"][\"ns0:PatentDocumentAndRelated\"][\"ns0:BibliographicData\"][\"ns0:InventionTitle\"]['#text']\n",
    "a_en = file['doc:merged'][\"doc:en\"][\"ns0:PatentDocumentAndRelated\"][\"ns0:Abstract\"][\"ns2:Paragraphs\"]\n",
    "\n",
    "\n",
    "\n",
    "d = {\"title_cn\":t_cn,\"abstract_cn\":a_cn,\"title_en\":t_en, \"abstract_en\":a_en}\n",
    "\n",
    "f_long_text.write(json.dumps(d,ensure_ascii=False) + \"\\n\")\n",
    "\n",
    "f.cls"
   ]
  },
  {
   "cell_type": "code",
   "execution_count": null,
   "id": "4ed69b13",
   "metadata": {},
   "outputs": [],
   "source": []
  }
 ],
 "metadata": {
  "kernelspec": {
   "display_name": "Python 3 (ipykernel)",
   "language": "python",
   "name": "python3"
  },
  "language_info": {
   "codemirror_mode": {
    "name": "ipython",
    "version": 3
   },
   "file_extension": ".py",
   "mimetype": "text/x-python",
   "name": "python",
   "nbconvert_exporter": "python",
   "pygments_lexer": "ipython3",
   "version": "3.10.9"
  }
 },
 "nbformat": 4,
 "nbformat_minor": 5
}
