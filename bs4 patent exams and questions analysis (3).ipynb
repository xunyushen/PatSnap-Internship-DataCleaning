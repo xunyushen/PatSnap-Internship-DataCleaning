{
 "cells": [
  {
   "cell_type": "code",
   "execution_count": 19,
   "id": "388f97c5",
   "metadata": {},
   "outputs": [],
   "source": [
    "from bs4 import BeautifulSoup as bs\n",
    "import os\n",
    "import re\n",
    "import json\n",
    "import pandas as p"
   ]
  },
  {
   "cell_type": "markdown",
   "id": "e35bb5dd",
   "metadata": {},
   "source": [
    "# 4.26 \"World Intellectual Property Day\" Knowledge Quiz Question Bank and Answers(4.26“世界知识产权日”知识竞赛试题库及答案-巨学问网)"
   ]
  },
  {
   "cell_type": "code",
   "execution_count": 20,
   "id": "262d4d3b",
   "metadata": {},
   "outputs": [
    {
     "name": "stdout",
     "output_type": "stream",
     "text": [
      "世界知识产权日，由世界知识产权组织于2001年4月26日设立，并决定从2001年起将每年的4月26日定为\"世界知识产权日\"，目的是在世界范围内树立尊重知识、崇尚科学和保护知识产权的意识，营造鼓励知识创新的法律环境。为方便您开展知识竞赛宣传活动，特整理了包含了单选题20题、多选题10题、判断题10题的题库，并附有答案。\n",
      "一、单选题（共20题）\n",
      "1、下列文件被认为是世界上第一部版权法的是（   ）\n",
      "A、1709 年英国的《安娜女王法》\n",
      "B、1890 年美国的《谢尔曼反不正当竞争法》\n",
      "C、世贸组织的《知识产权协定》\n",
      "D、1900 的《巴黎公约》\n",
      "正确答案：A\n",
      "\n",
      "2、说知识产权是（   ） ，比较全面。\n",
      "A、活着的人的智力成果\n",
      "B、自然人的智力成果\n",
      "C、自然人或法人的智力成果\n",
      "D、公民的智力成果\n",
      "正确答案：C\n",
      "\n",
      "3、专利权的地域性是指在（   ）拥有法律保护\n",
      "A、权利人所在的民族区域\n",
      "B、申请地所在的国家或者地区\n",
      "C、权利人所在国家的建交国家或地区\n",
      "D、权利人的国籍国或地区\n",
      "正确答案：B\n",
      "\n",
      "4、下列选项，哪项中含有保护期限不受时间限制的知识产权？（   ）\n",
      "A、商标权\n",
      "B、著作权\n",
      "C、实用新型专利权\n",
      "D、发明专利权\n",
      "正确答案：B\n",
      "\n",
      "5、狭义的知识产权包括(    )\n",
      "A、工业产权和版权\n",
      "B、著作权和商标权\n",
      "C、专利权和著作权\n",
      "D、邻接权和集成电路布图设计权\n",
      "正确答案：A\n",
      "\n",
      "6、作者的传播权包括（   ）\n",
      "A、放映权和展览权\n",
      "B、人身权和财产权\n",
      "C、排他权和独占权\n",
      "D、表演者权、录制者权、广播组织权、出版者权\n",
      "正确答案：D\n",
      "\n",
      "7、以下属于知识产权范围的是（   ）\n",
      "A、石子游戏规则\n",
      "B、数学累加方法\n",
      "C、作家头脑中的灵感\n",
      "D、舞蹈演员的表演\n",
      "正确答案：D\n",
      "\n",
      "8、以下属于知识产权性质范围的是（    ）\n",
      "A、可触摸性\n",
      "B、不可复制性\n",
      "C、无形性\n",
      "D、永久性\n",
      "正确答案：C\n",
      "\n",
      "9、工业产权中的创造性成果权包括（    ）\n",
      "A、发明专利权、使用新型权、外观设计权\n",
      "B、商标权、商号权\n",
      "C、服务标记权、货源标记权、原产地名称权\n",
      "D、制止不正当竞争权\n",
      "正确答案：A\n",
      "\n",
      "10、以下属于边缘保护对象的是（    ）\n",
      "A、外观设计权\n",
      "B、商标权\n",
      "C、著作权\n",
      "D、专利权\n",
      "正确答案：A\n",
      "\n",
      "11、广义的版权分为（    ）\n",
      "A、人身权和邻接权\n",
      "B、作品的创作者权、作品的传播权\n",
      "C、财产权和邻接权\n",
      "D、人身权和表演者权\n",
      "正确答案：B\n",
      "\n",
      "\n"
     ]
    }
   ],
   "source": [
    "html = open('4.26“世界知识产权日”知识竞赛试题库及答案-巨学问网.html','r',encoding='utf8').read()\n",
    "file = bs(html,'html.parser')\n",
    "title = file.title.string.strip() if file.title else ''\n",
    "body = '\\n'.join([p.get_text().strip() for p in file.find_all('p')])\n",
    "small_body = body[0:1016]\n",
    "print(small_body)"
   ]
  },
  {
   "cell_type": "code",
   "execution_count": 21,
   "id": "8c653b30",
   "metadata": {},
   "outputs": [],
   "source": [
    "question = re.findall(r\"\\d+、(.*?)正确答案\",body,re.S)\n",
    "\n",
    "ans = re.findall(r\"(正确答案.*?)\\s+\",body,re.S)"
   ]
  },
  {
   "cell_type": "code",
   "execution_count": 22,
   "id": "40a3f6fe",
   "metadata": {
    "scrolled": true
   },
   "outputs": [],
   "source": [
    "\n",
    "with open(\"4.26世界知识竞赛问题答案js.json\",\"w\",encoding='utf-8') as f7:\n",
    "    for i in range(0,len(question)):\n",
    "        q,a = question[i],ans[i]\n",
    "        d = {\"question\":q,\"answer\":a}\n",
    "        f7.write(json.dumps(d,ensure_ascii=False)+\"\\n\")\n"
   ]
  },
  {
   "cell_type": "markdown",
   "id": "b633f1be",
   "metadata": {},
   "source": [
    "# April 2022 Knowledge of Intellectual Property Law Self-study Exam Questions and Reference Answers(2022年4月00226知识产权法自考试题及参考答案 - 知乎)"
   ]
  },
  {
   "cell_type": "code",
   "execution_count": 23,
   "id": "649741ff",
   "metadata": {},
   "outputs": [],
   "source": [
    "html = open('2022年4月00226知识产权法自考试题及参考答案 - 知乎.html','r',encoding='utf8').read()\n",
    "file = bs(html,'html.parser')\n",
    "title = file.title.string.strip() if file.title else ''\n",
    "body = '\\n'.join([p.get_text().strip() for p in file.find_all('p')])"
   ]
  },
  {
   "cell_type": "code",
   "execution_count": 24,
   "id": "a9d7c37c",
   "metadata": {},
   "outputs": [],
   "source": [
    "question = re.findall(r\"\\d+、(.*?)参考答案\",body,re.S)\n",
    "\n",
    "ans = re.findall(r\"(参考答案.*?)\\s+\",body,re.S)"
   ]
  },
  {
   "cell_type": "code",
   "execution_count": 25,
   "id": "436b1351",
   "metadata": {},
   "outputs": [],
   "source": [
    "with open(\"2022年4月00226知识产权法自考试题及参考答案js.json\",\"w\",encoding='utf-8') as f7:\n",
    "    for i in range(0,len(question)):\n",
    "        q,a = question[i],ans[i]\n",
    "        d = {\"question\":q,\"answer\":a}\n",
    "        f7.write(json.dumps(d,ensure_ascii=False)+\"\\n\")"
   ]
  },
  {
   "cell_type": "markdown",
   "id": "79db6591",
   "metadata": {},
   "source": [
    "# 2023 Intellectual Property Public Legal Knowledge Quiz Question Bank with Answers(2023知识产权普法知识竞赛题库附答案)"
   ]
  },
  {
   "cell_type": "code",
   "execution_count": 29,
   "id": "32baf9e8",
   "metadata": {},
   "outputs": [
    {
     "name": "stdout",
     "output_type": "stream",
     "text": [
      "知识产权，是“基于创造成果和工商标记依法产生的权利的统称”。最主要的三种知识产权是著作权、专利权和商标权，其中专利权与商标权也被统称为工业产权。下面是小编给大家分享的一些有关于2023知识产权普法知识竞赛题库附答案的内容，希望能对大家有所帮助。\n",
      "1、甲乙二人共同提交的专利被授予了专利权。甲乙事先没有任何约定,在未经乙同意的情形下,根据我国现行专利法及其实施细则的规定,甲的下列哪种做法符合相关规定。()\n",
      "A、单独实施该专利\n",
      "B、放弃该专利权\n",
      "C、将该专利权质押给丙\n",
      "答案:A\n",
      "2、专利权人应当自何时起缴纳年费?()\n",
      "A、提出申请的当年\n",
      "B、提出实质审查请求的当年\n",
      "C、被授予专利权的当年\n",
      "答案:C\n",
      "3、甲在创作专著《与上帝接吻》的过程中,乙提供了一些参考资料。作品完成后,由丙出版社发行。该作品的著作权归()所有。\n",
      "A、甲\n",
      "B、乙\n",
      "C、丙\n",
      "答案:A\n",
      "4、恶意抢注他人驰名商标的,驰名商标所有人可以请求撤销该注册商标的时间限制为()。\n",
      "A、不受时间限制\n",
      "B、3年\n",
      "C、5年\n",
      "答案:A\n",
      "5、宣告无效的发明专利权视为()。\n",
      "A、自始即不存在\n",
      "B、自宣告无效日起即不存在\n",
      "C、自发明专利申请公布日起即不存在\n",
      "答案:A\n",
      "6、我国著作权法施行于()。\n",
      "A、1990年9月7日\n",
      "B、1991年7月1日\n",
      "C、1991年6月1日\n",
      "答案:C\n",
      "7、我国商标法施行于()。\n",
      "A、1983年5月1日\n",
      "B、1983年1月1日\n",
      "C、1983年3月1日\n",
      "答案:C\n",
      "8、申请专利在申请日以前6个月之内发生如下哪一种情形的,不丧失新颖性。()\n",
      "A、在中国政府主办或者承认的国际展览会上首次展出的\n",
      "B、在学术期刊上首次发表的\n",
      "C、自己上传到互联网上的\n",
      "答案:A\n",
      "9、全国知识产权维权援助与举报投诉公益服务电话是()。\n",
      "A、12328\n",
      "B、12329\n",
      "C、12330\n",
      "答案:C\n",
      "10、2023年是第几个世界知识产权日()。\n",
      "A、第十九个\n",
      "B、第二十个\n",
      "C、第二十三个\n",
      "答案:C\n",
      "11、乙公司委托甲公司研发某产品,甲公司指定员工田某承担此项研发任务,田某在研发过程中完成了一项发明创造。在没有任何约定的情形下,该发明创造申请专利的权利属于谁?()\n",
      "A、田某\n",
      "B、甲公司\n",
      "C、乙公司\n",
      "答案:B\n",
      "12、《中华人民共和国专利法》何时实施()。\n",
      "A、1983年4月1日\n",
      "B、1984年4月1日\n",
      "C、1985年4月1日\n",
      "答案:C\n",
      "\n"
     ]
    }
   ],
   "source": [
    "html = open('2023知识产权普法知识竞赛题库附答案.html','r',encoding='utf8').read()\n",
    "file = bs(html,'html.parser')\n",
    "title = file.title.string.strip() if file.title else ''\n",
    "body = '\\n'.join([p.get_text().strip() for p in file.find_all('p')])\n",
    "small_body = body[0:990]\n",
    "print(small_body)"
   ]
  },
  {
   "cell_type": "code",
   "execution_count": 19,
   "id": "662445dc",
   "metadata": {},
   "outputs": [],
   "source": [
    "question = re.findall(r\"\\d+、(.*?)答案:\",body,re.S)\n",
    "\n",
    "ans = re.findall(r\"(答案:.*?)\\s+\",body,re.S)"
   ]
  },
  {
   "cell_type": "code",
   "execution_count": 20,
   "id": "62ade724",
   "metadata": {},
   "outputs": [],
   "source": [
    "with open(\"2023知识产权普法知识竞赛题库附答案js.json\",\"w\",encoding='utf-8') as f7:\n",
    "    for i in range(0,len(question)):\n",
    "        q,a = question[i],ans[i]\n",
    "        d = {\"question\":q,\"answer\":a}\n",
    "        f7.write(json.dumps(d,ensure_ascii=False)+\"\\n\")"
   ]
  },
  {
   "cell_type": "markdown",
   "id": "44fecaf3",
   "metadata": {},
   "source": [
    "# Selected Intellectual Property Knowledge Quiz Question Bank and Answers（精选知识产权知识竞赛试题题库及答案 _ 爱作业）"
   ]
  },
  {
   "cell_type": "code",
   "execution_count": 32,
   "id": "9bd25124",
   "metadata": {},
   "outputs": [
    {
     "name": "stdout",
     "output_type": "stream",
     "text": [
      "知识产权是指智力创造成果：发明、文学和艺术作品，以及商业中使用的符号、名称、图像和外观设计。下面是小编给大家分享的一些有关于精选知识产权知识竞赛试题题库及答案的内容，希望能对大家有所帮助。\n",
      "1、知识产权是法人通过智力劳动所创造的智力成果而依法确认享有的权利（ ）错误\n",
      "2、世界上大多数国家承认著作权属于知识产权的范畴（ ）正确\n",
      "3、世界上大多数国家不认为反不正当竞争法属于知识产权法的范畴（ ）错误\n",
      "4、到2006年年底，约有近200个国家参加了《建立世界知识产权组织公约》（ ）正确\n",
      "5、世界上大多数国家承认科学发现属于知识产权的范畴（ ）正确\n",
      "6、版权是作品创作者的权利（ ）\n",
      "7、版权又称为著作权（ ）正确\n",
      "8、版权的邻接权又称为与版权相关的权利（ ）正确\n",
      "9、版权的邻接权即是出版者权（ ）错误\n",
      "10、版权的邻接权是作品传播者的权利（ ）正确\n",
      "11、专利权即是发明专利权（ ）错误\n",
      "12、发明权即是科学发现权（ ）错误\n",
      "13、发明是指利用已知的科学理论、自然规律、科学技术所创造的新事物、新产品、新方法，特别是科学技术方面的新成就（ ）正确\n",
      "14、外观设计强调的是保护文学艺术品（ ）错误\n",
      "15、世界上大多数国家对外观设计采用专利法加以保护（ ）错误\n",
      "16、商号是厂商字号的简称，也称为字号或厂商名称（ ）正确\n",
      "17、按照WIPO的规定，地理标志是货源标记和原产地名称的总称（ ）正确\n",
      "18、TRIPS协议是指1994年1月1日生效的世界贸易组织《与贸易有关的知识产权协议》（ ）正确\n",
      "19、WTO对知识产权的定义比WIPO对知识产权的定义外延更宽（ ）错误\n",
      "20、拓扑图是指集成电路布图设计（ ）正确\n",
      "21、商业秘密是指经营者在生产、销售、经营、服务中对外保密，而又不被公众所知悉，能给经营者带来竞争优势的信息（ ）正确\n",
      "22、工业产权可分为三类：创造性成果权、识别性标记权、制止不正当竞争权（ ）正确\n",
      "23、作品创作者权可分为经济权利和精神权利（ ）正确\n",
      "24、邻接权又称为与版权有关的权利，包括表演者权、录制者权、广播组织权、出版者权等（ ）正确\n",
      "25、广义的知识产权分为三大部分：工业产权、版权、外观设计权（ ）错误\n",
      "26、知识产权与一般有形财产权的主要区别在于有没有法定的保护期限（ ）错误\n",
      "27、知识产权是一种法律所确认和保护的权利，属于私权（ ）正确\n",
      "\n"
     ]
    }
   ],
   "source": [
    "html = open('精选知识产权知识竞赛试题题库及答案 _ 爱作业.html','r',encoding='utf8').read()\n",
    "file = bs(html,'html.parser')\n",
    "title = file.title.string.strip() if file.title else ''\n",
    "body = '\\n'.join([p.get_text().strip() for p in file.find_all('p')])\n",
    "body = re.sub(\"√\",\"正确\",body)\n",
    "body = re.sub(\"×\",\"错误\",body)\n",
    "small_body = body[0:987]\n",
    "print(small_body)"
   ]
  },
  {
   "cell_type": "code",
   "execution_count": 22,
   "id": "40961b2a",
   "metadata": {},
   "outputs": [],
   "source": [
    "#Extract question and answer\n",
    "tf_question = re.findall(r\"\\d+、(.*?（ ）)\",body,re.S)\n",
    "#Extract question\n",
    "mul_choice_tf= re.sub(r\"知识产权是指智力创造成果(.|\\n)*?一、单选题（1’X30）|以上就是小编(.|\\n)*?-25\",\"\",body)\n",
    "mul_choice_tf =  re.sub(r\"(（).*?(）)\",r\"\\1（\\2）\",mul_choice_tf).replace(\"（（））\",\"（）\")\n",
    "mul_choice_tf_q = re.findall(r\"\\d+、(.*?)(?=\\d+、)\",mul_choice_tf,re.S)\n",
    "#Combine all questions extracted from body text\n",
    "total_question = []\n",
    "for i in tf_question:\n",
    "    total_question.append(i)\n",
    "for j in mul_choice_tf_q:\n",
    "    total_question.append(j)\n",
    "#Extract answer\n",
    "ans_body = re.sub(r\"一、单选题（1’X30）|二、判断题.*?\\s+\",\"\",body)\n",
    "answer_1 = re.findall(r\"\\d+、.*?（ ）(.*?)(?=\\d+、)\",ans_body,re.S)\n",
    "answer_2 = re.findall(r\"\\d+、.*?（(\\S+)）\",ans_body,re.S)\n",
    "answer_2.pop()\n",
    "answer_total = []\n",
    "for i in answer_1:\n",
    "    answer_total.append(i)\n",
    "for j in answer_2:\n",
    "    answer_total.append(j)"
   ]
  },
  {
   "cell_type": "code",
   "execution_count": 23,
   "id": "85eb4c49",
   "metadata": {},
   "outputs": [],
   "source": [
    "with open(\"精选知识产权知识竞赛试题题库及答案.json\",\"w\",encoding='utf-8') as f8:\n",
    "    for i in range(0,len(total_question)):\n",
    "        q,a = total_question[i],answer_total[i]\n",
    "        d = {\"question\":q,\"answer\":a}\n",
    "        f8.write(json.dumps(d,ensure_ascii=False)+\"\\n\")"
   ]
  },
  {
   "cell_type": "markdown",
   "id": "35276f8c",
   "metadata": {},
   "source": [
    "# 知识竞赛题库( Knowledge Competition Question Bank)"
   ]
  },
  {
   "cell_type": "code",
   "execution_count": 24,
   "id": "ae30a390",
   "metadata": {},
   "outputs": [],
   "source": [
    "df_htext = pd.read_excel('知识竞赛题库.xlsx')\n",
    "fw = open(\"知识竞赛题库.json\",\"w\",encoding='utf-8') \n",
    "for i in range(len(df_htext)):\n",
    "    d = df_htext.iloc[i]\n",
    "    URL = d[0] \n",
    "    question = d[1]\n",
    "    answer = d[2]\n",
    "    dw = {}\n",
    "    dw[\"URL\"] = URL\n",
    "    dw[\"question\"] = question\n",
    "    dw[\"answer\"] = answer\n",
    "    fw.write(json.dumps(dw,ensure_ascii=False)+\"\\n\")\n",
    "fw.close()"
   ]
  },
  {
   "cell_type": "markdown",
   "id": "7e3c0c95",
   "metadata": {},
   "source": [
    "# 知识竞赛题库( Knowledge Competition Question Bank)-cleaning"
   ]
  },
  {
   "cell_type": "code",
   "execution_count": 47,
   "id": "5ec67e84",
   "metadata": {
    "scrolled": true
   },
   "outputs": [
    {
     "name": "stdout",
     "output_type": "stream",
     "text": [
      "{'URL': 'http://www.zhishijingsai.cn/zhishichanquan/', 'question': '知识产权一般包括( )两部分。A、著作权,工业产权  B、著作权,专利权  C、著作权,商标权', 'answer': '正确答案：A'}\n",
      "{'URL': 'http://www.zhishijingsai.cn/zhishichanquan/', 'question': '《中华人民共和国专利法》于( )年3月12日通过,()年9月4日第一次修订,()年8月25日第二次修订。A、1984、1992、2000  B、1983、1993、1999  C、1984、1993、2000', 'answer': '正确答案：A'}\n",
      "{'URL': 'http://www.zhishijingsai.cn/zhishichanquan/', 'question': '世界贸易组织《与贸易有关的知识产权协定》( )是迄今为止最具综合性的知识产权多边协议,其中规定了()的知识产权。A、集成电路布图设计  B、实用新型  C、植物新品种', 'answer': '正确答案：A'}\n",
      "{'URL': 'http://www.zhishijingsai.cn/zhishichanquan/', 'question': '下面哪一项不属于由 TRIPS协定所规定的基本原则( )。A、国民待遇原则  B、最惠国待遇原则  C、公共健康原则', 'answer': '正确答案：C'}\n",
      "{'URL': 'http://www.zhishijingsai.cn/zhishichanquan/', 'question': '我国于( )成为世界知识产权组织WIPO)的正式成员国。A、29375  B、29740  C、31125', 'answer': '正确答案：A'}\n",
      "{'URL': 'http://www.zhishijingsai.cn/zhishichanquan/', 'question': '以下知识产权国际公约中,最早订立的是( )A、《保护工业产权巴黎公约》  B、《伯尔尼保护文学和艺术作品公约》  C、《世界版权公约》', 'answer': '正确答案：A'}\n",
      "{'URL': 'http://www.zhishijingsai.cn/zhishichanquan/', 'question': '在下列知识产权国际公约中,我国尚未加入的有( )。A、《保护表演者,录音制作者和广播组织的国际公约》(罗马公约)  B、《世界版权公约》  C、《国际植物新品种保护公约》', 'answer': '正确答案：A'}\n",
      "{'URL': 'http://www.zhishijingsai.cn/zhishichanquan/', 'question': '在商标方面的国际公约中,我国未加入的是( )。A、《商标国际注册马德里协定》  B、《商标国际注册马德里协定有关议定书》  C、《商标法律条约》', 'answer': '正确答案：C'}\n",
      "{'URL': 'http://www.zhishijingsai.cn/zhishichanquan/', 'question': '世界知识产权组织于1974年成为联合国组织系统的一个专门机构,其总部位于( )A、瑞士日内瓦  B、瑞士洛桑  C、美国纽约', 'answer': '正确答案：A'}\n",
      "{'URL': 'http://www.zhishijingsai.cn/zhishichanquan/', 'question': '据世界知识产权组织统计,专利文献记载了人类( )以上的新技术信息。A、0.9  B、0.6  C、科技局,专利商标局,特许厅', 'answer': '正确答案：A'}\n"
     ]
    }
   ],
   "source": [
    "dsd = open(\"知识竞赛题库.json\",'r',encoding='utf-8').readlines()\n",
    "f9 = open(\"知识竞赛库_clean.json\",\"w\",encoding='utf-8')\n",
    "index = 0\n",
    "for line in dsd:\n",
    "    item = json.loads(line)\n",
    "    if 'question' in item:\n",
    "        item['question']=item['question'].replace('所属题库：知识产权\\t\\t\\t   \\n\\t\\t\\t   \\n\\t\\t\\t   \\n\\t\\t\\t   【单选】\\n        \\t\\t\\t\\t\\t   ',\"\")\n",
    "        item['question']=item['question'].replace('\\n\\t\\t\\t\\t',\"  \")\n",
    "        item['question']=item['question'].replace('\\n\\t\\t\\t   \\t\\n\\t\\t\\t   \\n\\t\\t\\t   \\t',\"\")\n",
    "        item['question']=item['question'].replace('            \\t \\n            \\t ',\"\")\n",
    "        f9.write(json.dumps(item,ensure_ascii=False)+\"\\n\")\n",
    "    index = index + 1\n",
    "    if index > 10:\n",
    "        pass\n",
    "    else:\n",
    "        print(item)\n",
    "f9.close()"
   ]
  },
  {
   "cell_type": "markdown",
   "id": "160e0648",
   "metadata": {},
   "source": [
    "# 知识产权保护题库合集(Collection of Intellectual Property Protection Question Bank)2021-2023"
   ]
  },
  {
   "cell_type": "code",
   "execution_count": 41,
   "id": "bc3bdd59",
   "metadata": {},
   "outputs": [],
   "source": [
    "books_2023=['2023年初级经济师知识产权考试题库：第四章-专利运用 - 上海经济师.html','2023年初级经济师知识产权考试题库：第六章-商标使用 - 上海经济师.html','2023年初级经济师知识产权考试题库：第五章-商标基础 - 上海经济师.html','2023年初级经济师知识产权考试题库：第二章、专利申请、授权与确权 - 上海经济师.html','2023年初级经济师知识产权考试题库：第七章-商标保护 - 上海经济师.html','2023年初级经济师知识产权考试题库：第一章-知识产权基础 - 上海经济师.html','2023年初级经济师知识产权考试题库： 第三章-专利保护 - 上海经济师.html']"
   ]
  },
  {
   "cell_type": "code",
   "execution_count": 46,
   "id": "c12054f0",
   "metadata": {},
   "outputs": [
    {
     "name": "stdout",
     "output_type": "stream",
     "text": [
      "{'question': '关于专利实施的说法，错误的是（）。\\nA.独占许可\\nB.排他许可\\nC.普通许可\\nD.分许可\\n', 'answer': '参考答案：D\\n参考解析：\\n专利实施通常有广义和狭义之分。狭义的专利实施是指制造、使用专利产品以及使用专利方法的行为。广义的专利实施是指制造、使用、许诺销售、销售、进口专利产品，或者使用专利方法以及使用、许诺销售、销售、进口依照该专利方法直接获得的产品的行为。专利实施可以采用多种形式，专利权人既可以自己实施，也可以许可他人实施。我国对专利实施采用的是广义的含义。\\n'}\n",
      "{'question': ' 未注册商标冒充注册商标是一种欺骗相关公众的行为，扰乱了商标注册管理秩序，依法应（）。\\nA.承担民事侵权责任\\nB.承担刑事责任\\nC.予以制止并给予行政处罚\\nD.赔偿他人损失\\n', 'answer': '参考答案：C\\n参考解析：\\n本题考察的是注册商标的不当使用。\\n未注册商标冒充注册商标是一种欺骗相关公众的行为，扰乱了商标注册管理秩序，依法应予以制止并给予行政处罚。本题为原文内容的考察，ABD选项均不符合题意。\\n故本题正确答案为C。\\n'}\n",
      "{'question': '、（）是商标注册主管机关对商标注册申请是否合乎商标法的规定所进行的检查、资料检索、分析对比、调查研究并决定给予初步审定或驳回申请等一系列活动。\\nA.商标注册\\nB.商标审查\\nC.商标资料准备\\nD.商标申请\\n', 'answer': '参考答案：B\\n参考解析：\\n本题考查的是商标审查的概念。商标审查是指商标注册主管机关对商标注册申请是否合乎商标法的规定所进行的检查、资料检索、分析对比、调查研究并决定给予初步审定或驳回申请等一系列活动。故本题正确答案为B。\\n'}\n",
      "{'question': '.小明拥有一项发明专利，关于该发明专利基本特点的说法，正确的是（）。\\nA.小明的专利权是在经法定部门审查批准后授予的\\nB.小明的专利权是在其发明后自动获得的\\nC.专利授权后，如果有人认为小明的专利授权不当，请求人不可以启动专利无效宣告请求审查程序\\nD.小明在申请该专利时不必公开专利申请的内容\\n', 'answer': '参考答案：A\\n参考解析：\\n本题考察的是专利的基本特点。\\nA正确：专利权是经国务院专利行政部门经过法定的审查程序后批准获得的。\\nB错误：著作权是自作品完成之日自动产生的，小明的发明专利需要经过法定的审查程序后批准获得。\\nC错误：专利授权后，如果有人认为专利授权不当，法律还设置有专门的确权机制，即由请求人启动的专门机构审查的专利无效宣告请求审查程序。\\nD错误：专利权是无形财产权，专利权的行使以专利申请授权内容公开为必要条件。\\n故本题正确答案为A。\\n'}\n",
      "{'question': '（）是指使用他人注册商标中的文字或图形等要素，用以说明自己提供的商品或服务能够与使用该商标的商品或服务配套，或者为了说明自己提供的商品或服务的功能、用途、原料、制作工艺或者服务对象等，不会导致消费者对商品或者服务来源的混淆。\\nA.指示性使用\\nB.商业性使用\\nC.描述性使用\\nD.商标性使用\\n', 'answer': '参考答案：C\\n参考解析：\\n本题考察的是注册商标专用权的权利限制。\\n描述性使用：使用他人注册商标中的文字或图形等要素，用以善意的描述自己商品或服务的特征、产地等情况的行为。\\n指示性使用：使用他人注册商标中的文字或图形等要素，用以说明自己提供的商品或服务能够与使用该商标的商品或服务配套，或者为了说明自己提供的商品或服务的功能、用途、原料、制作工艺或者服务对象等，并不会导致消费者对商品或者服务来源的混淆。故本题正确答案为C。\\n'}\n",
      "{'question': '.知识产权民事保护的归责原则是（）。\\nA.过错原则\\nB.无过错责任原则\\nC.过失原则\\nD.过错责任原则为主导、无过错责任原则为补充\\n', 'answer': '参考答案：D\\n收起解析\\n编辑取消关联\\n参考解析：\\n关于侵害知识产权的赔偿责任，据我国《中华人民共和国民法通则》第'}\n",
      "{'question': '.关于专利侵权构成要件的说法，错误的是（）。\\nA.侵权行为的主体是指实施侵权行为的人，包括自然人和法人\\nB.实施行为必须是以生产经营为目的\\nC.侵权行为客观表现为行为人违反专利法规定，以不正当手段侵犯他人专利权\\nD.侵权行为主体与侵权责任主体具有一致性\\n', 'answer': '参考答案：D\\n参考解析：\\n侵权行为的主体是指实施侵权行为的人，包括自然人和法人。行为人所实施的行为必须是以生产经营为目的，客观上表现为行为人违反《专利法》的规定，以不正当手段侵犯他人专利权。在实践中，侵权行为的主体并不一定是侵权责任的主体，比如未成年人的父母可能会因未成年人的侵犯专利权行为而承担责任，用人单位可能因其职员为了职务之便的专利侵权行为而承担责任。\\n'}\n"
     ]
    }
   ],
   "source": [
    "f10 = open(\"知识产权保护题库合集2023.json\",\"w\",encoding='utf-8')\n",
    "for i in books_2023:\n",
    "    html = open(i,'r',encoding='utf8').read()\n",
    "    file = bs(html,'html.parser')\n",
    "    title = file.title.string.strip() if file.title else ''\n",
    "    body = '\\n'.join([p.get_text().strip() for p in file.find_all('p')])\n",
    "    question = re.findall(r\"\\d+(.*?)(?=参考答案)\",body,re.S)\n",
    "    ans = re.findall(r\"(参考答案.*?)(?=\\d)\",body,re.S)\n",
    "    index = 0\n",
    "    for i in range(0,len(question)):\n",
    "        q,a = question[i],ans[i]\n",
    "        d = {\"question\":q,\"answer\":a}\n",
    "        f10.write(json.dumps(d,ensure_ascii=False)+\"\\n\")\n",
    "        index = index+1\n",
    "        if index > 1:\n",
    "            pass\n",
    "        else:\n",
    "            print(d)"
   ]
  },
  {
   "cell_type": "code",
   "execution_count": null,
   "id": "7440a073",
   "metadata": {},
   "outputs": [],
   "source": [
    "books_2022 = ['2022初级经济师知识产权日常练习试题：著作权 - 上海经济师.html','2022初级经济师知识产权日常练习试题：地理标志 - 上海经济师.html']\n",
    "f11 = open(\"知识产权保护题库合集2022_1.json\",\"w\",encoding='utf-8')\n",
    "for i in books_2022:\n",
    "    html = open(i,'r',encoding='utf8').read()\n",
    "    file = bs(html,'html.parser')\n",
    "    title = file.title.string.strip() if file.title else ''\n",
    "    body = '\\n'.join([p.get_text().strip() for p in file.find_all('p')])\n",
    "    body = re.sub(r\"【结尾】(.|\\n)*?扫一扫关注微信公众号\",\"\",body)\n",
    "    question = re.findall(r\"\\d+(\\[.*?(?=[答案]))\",body,re.S)\n",
    "    ans = re.findall(r\"(\\[答案\\].*?)(?=\\d\\[)\",body,re.S)\n",
    "    \n",
    "    for i in range(0,len(question)):\n",
    "        q,a = question[i],ans[i]\n",
    "        q = q.replace(\"[.单选题]\",\"[单选题]\")\n",
    "        q = q.replace(\"[.多选题]\",\"[多选题]\")\n",
    "        d = {\"question\":q,\"answer\":a}\n",
    "        f11.write(json.dumps(d,ensure_ascii=False)+\"\\n\")\n",
    "f11.close()"
   ]
  },
  {
   "cell_type": "code",
   "execution_count": 50,
   "id": "ed33ed53",
   "metadata": {},
   "outputs": [],
   "source": [
    "books_2021 = ['2021初级经济师考试《知识产权》章节试题：专利保护 - 上海经济师.html','2021初级经济师考试《知识产权》章节试题：专利申请 - 上海经济师.html','2021初级经济师考试《知识产权》章节试题：专利运用 - 上海经济师.html','2021初级经济师考试《知识产权》章节试题：其他类型的知识产权 - 上海经济师.html','2021初级经济师考试《知识产权》章节试题：商业秘密 - 上海经济师.html','2021初级经济师考试《知识产权》章节试题：商标使用 - 上海经济师.html','2021初级经济师考试《知识产权》章节试题：商标基础 - 上海经济师.html','2021初级经济师考试《知识产权》章节试题：地理标志 - 上海经济师.html','2021初级经济师考试《知识产权》章节试题：注册商标专用权的保护 - 上海经济师.html','2021初级经济师考试《知识产权》章节试题：知识产权基础 - 上海经济师.html','2021初级经济师考试《知识产权》章节试题：著作权 - 上海经济师.html','2021年初级经济师考试知识产权习题：侵犯著作权的行为及其法律责任 - 上海经济师.html','2021年初级经济师考试知识产权习题：商业秘密 - 上海经济师.html','2021年初级经济师考试知识产权习题：商标专用权 - 上海经济师.html','2021年初级经济师考试知识产权习题：地理标志 - 上海经济师.html','2021年初级经济师考试知识产权习题：地理标志保护概述 - 上海经济师.html','2021年初级经济师考试知识产权习题：植物新品种权 - 上海经济师.html','2021年初级经济师考试知识产权习题：著作权的内容 - 上海经济师.html','2021年初级经济师考试知识产权习题：集成电路布图设计专有权 - 上海经济师.html']"
   ]
  },
  {
   "cell_type": "code",
   "execution_count": 51,
   "id": "255cf5b2",
   "metadata": {},
   "outputs": [],
   "source": [
    "f12 = open('知识产权保护题库合集2021.json',\"w\",encoding='utf-8')\n",
    "for i in books_2021:\n",
    "    html = open(i,'r',encoding='utf8').read()\n",
    "    file = bs(html,'html.parser')\n",
    "    title = file.title.string.strip() if file.title else ''\n",
    "    body = '\\n'.join([p.get_text().strip() for p in file.find_all('p')])\n",
    "    question = re.findall(r\"\\d+(\\[.*?(?=\\[答案\\]))\",body,re.S)\n",
    "    ans = re.findall(r\"(\\[答案\\].*?)\\s\",body,re.S)\n",
    "    for i in range(0,len(question)):\n",
    "        q,a = question[i],ans[i]\n",
    "        q=q.replace(\"[.单选题]\",\"[单选题]\")\n",
    "        d = {\"question\":q,\"answer\":a}\n",
    "        f12.write(json.dumps(d,ensure_ascii=False)+\"\\n\")\n",
    "f12.close()"
   ]
  },
  {
   "cell_type": "markdown",
   "id": "8b747eb2",
   "metadata": {},
   "source": [
    "# 智燃-2021专利法考(zhi ran 2021 patent law exam)"
   ]
  },
  {
   "cell_type": "code",
   "execution_count": 52,
   "id": "c0feff2a",
   "metadata": {},
   "outputs": [],
   "source": [
    "zr_q = open(\"智燃题目_专利.txt\",encoding = 'utf-8').read()\n",
    "zr_a = open(\"智燃题目_答案.txt\",encoding = 'utf-8').read()"
   ]
  },
  {
   "cell_type": "code",
   "execution_count": 53,
   "id": "48df2b4d",
   "metadata": {},
   "outputs": [],
   "source": [
    "f13 = open('智燃-2021专利法考.json',\"w\",encoding='utf-8')\n",
    "q = re.findall(r\"\\d+\\.(.*?)(?=\\n\\d+\\.)\",zr_q,re.S)\n",
    "a_1 = re.findall(r\"\\d+．(.*?)(?=\\d+．)\",zr_a,re.S)\n",
    "a_2 = re.findall(r\"\\d+\\.(.*?)(?=\\d+\\.)\",zr_a,re.S)\n",
    "a = []\n",
    "for i in a_1:\n",
    "    a.append(i)\n",
    "for i in a_2:\n",
    "    a.append(i)\n",
    "\n",
    "    \n",
    "for i in range(0,len(q)):\n",
    "    question = q[i]\n",
    "    answer = a[i]\n",
    "    d = {\"question\":question,\"answer\":answer}\n",
    "    f13.write(json.dumps(d,ensure_ascii=False)+\"\\n\")\n",
    "f13.close()"
   ]
  },
  {
   "cell_type": "markdown",
   "id": "cf30d7d7",
   "metadata": {},
   "source": [
    "# 国产局 知识考题(National Intellectual Property Office Knowledge Test Questions)"
   ]
  },
  {
   "cell_type": "code",
   "execution_count": 54,
   "id": "62160524",
   "metadata": {},
   "outputs": [],
   "source": [
    "f14 = open('国知局-知产考试题js.json',\"w\",encoding='utf-8')\n",
    "gcj_qa = open(\"国知局-知产考试题.txt\",encoding = 'utf-8').read()\n",
    "gcj_qa = re.sub(r\"\\d+\\.|[A-D]. \",\"\",gcj_qa)\n",
    "\n",
    "q=re.findall(r\"\\d+、(.*?)答题\",gcj_qa,re.S)\n",
    "a=re.findall(r\"(正确答案.*?)试题解析\",gcj_qa,re.S)\n",
    "\n",
    "for i in range(0,len(q)):\n",
    "    question = q[i]\n",
    "    answer = a[i]\n",
    "    d = {\"question\":question,\"answer\":answer}\n",
    "    f14.write(json.dumps(d,ensure_ascii=False)+\"\\n\")\n",
    "f14.close()"
   ]
  },
  {
   "cell_type": "markdown",
   "id": "0e43082a",
   "metadata": {},
   "source": [
    "# 消防知识-考题(Fire Safety Knowledge Exam Questions)"
   ]
  },
  {
   "cell_type": "code",
   "execution_count": 55,
   "id": "295ea59a",
   "metadata": {},
   "outputs": [],
   "source": [
    "df_stext = pd.read_excel('fire_knowledge.xlsx')\n",
    "fw_safe = open(\"消防知识-考题.json\",\"w\",encoding='utf-8') \n",
    "for i in range(len(df_stext)):\n",
    "    d = df_stext.iloc[i]\n",
    "    URL = d[0] \n",
    "    question = d[1]\n",
    "    answer = d[2]\n",
    "    dw = {}\n",
    "    dw[\"URL\"] = URL\n",
    "    dw[\"question\"] = question\n",
    "    dw[\"answer\"] = answer\n",
    "    fw_safe.write(json.dumps(dw,ensure_ascii=False)+\"\\n\")\n",
    "fw_safe.close()"
   ]
  },
  {
   "cell_type": "code",
   "execution_count": 56,
   "id": "e914e912",
   "metadata": {},
   "outputs": [],
   "source": [
    "import json\n",
    "import pandas as pd\n",
    "dsd = open(\"消防知识-考题.json\",'r',encoding='utf-8').readlines()\n",
    "f15 = open(\"消防知识-考题_clean.json\",\"w\",encoding='utf-8')\n",
    "for line in dsd:\n",
    "    item = json.loads(line)\n",
    "    if 'question' in item:\n",
    "        item['question']=item['question'].replace('所属题库：消防知识\\t\\t\\t   \\n\\t\\t\\t   \\n\\t\\t\\t   \\n\\t\\t\\t   【单选】\\n        \\t\\t\\t\\t\\t   ',\"\")\n",
    "        item['question']=item['question'].replace('\\n\\t\\t\\t\\t',\"\")\n",
    "        item['question']=item['question'].replace('\\n\\t\\t\\t\\t\\t',\"\")\n",
    "        item['question']=item['question'].replace('\\n\\t\\t\\t',\" \")\n",
    "        item['question']=item['question'].replace('            \\t \\n            \\t ',\"\")\n",
    "        item['question']=item['question'].replace('    \\t        \\t',\"\")\n",
    "        item['question']=item['question'].replace('所属题库：消防知识\\t\\t\\t                       \\t\\t 【多选】\\n        \\t\\t\\t\\t\\t',\"\")\n",
    "        item['question']=item['question'].replace('所属题库：消防知识\\t\\t\\t                       \\t\\t 【判断】\\t\\t\\t  ',\"\")\n",
    "        item['question']=item['question'].strip()\n",
    "        f15.write(json.dumps(item,ensure_ascii=False)+\"\\n\")\n",
    "f15.close()"
   ]
  },
  {
   "cell_type": "markdown",
   "id": "34667349",
   "metadata": {},
   "source": [
    "# 安全知识-考题(Safety Knowledge Exam Questions)"
   ]
  },
  {
   "cell_type": "code",
   "execution_count": 57,
   "id": "64de5c85",
   "metadata": {},
   "outputs": [],
   "source": [
    "df_stext = pd.read_excel('safe_knowledge_.xlsx')\n",
    "fw_safe = open(\"安全知识-考题.json\",\"w\",encoding='utf-8') \n",
    "for i in range(len(df_stext)):\n",
    "    d = df_stext.iloc[i]\n",
    "    URL = d[0] \n",
    "    question = d[1]\n",
    "    answer = d[2]\n",
    "    dw = {}\n",
    "    dw[\"URL\"] = URL\n",
    "    dw[\"question\"] = question\n",
    "    dw[\"answer\"] = answer\n",
    "    fw_safe.write(json.dumps(dw,ensure_ascii=False)+\"\\n\")\n",
    "fw_safe.close()"
   ]
  },
  {
   "cell_type": "code",
   "execution_count": 58,
   "id": "928fe04e",
   "metadata": {},
   "outputs": [],
   "source": [
    "dsd = open(\"安全知识-考题.json\",'r',encoding='utf-8').readlines()\n",
    "f16 = open(\"安全知识-考题_clean.json\",\"w\",encoding='utf-8')\n",
    "for line in dsd:\n",
    "    item = json.loads(line)\n",
    "    if 'question' in item:\n",
    "        item['question']=item['question'].replace('所属题库：安全知识\\t\\t\\t   \\n\\t\\t\\t   \\n\\t\\t\\t   \\n\\t\\t\\t   【单选】\\n        \\t\\t\\t\\t\\t   ',\"\")\n",
    "        item['question']=item['question'].replace('\\t\\t 【多选】\\n        \\t\\t\\t\\t\\t',\"\")\n",
    "        item['question']=item['question'].replace('所属题库：安全知识\\t\\t\\t',\"\")\n",
    "        item['question']=item['question'].replace('所属题库：安全知识\\t\\t\\t                       \\t\\t 【判断】\\t\\t\\t   ',\"\")\n",
    "        item['question']=item['question'].replace('\\n\\t\\t\\t\\t',\"  \")\n",
    "        item['question']=item['question'].replace('\\n\\t\\t\\t\\t\\t',\"  \")\n",
    "        item['question']=item['question'].replace('\\n\\t\\t\\t',\" \")\n",
    "        item['question']=item['question'].replace(\"                          \",\"\")\n",
    "        item['question']=item['question'].replace('            \\t \\n            \\t ',\"  \")\n",
    "        item['question']=item['question'].replace('    \\t        \\t',\"  \")\n",
    "        item['question']=item['question'].replace('    \\t        \\t',\"  \")\n",
    "        item['question']=item['question'].replace(\"                       \\t\\t 【判断】\\t\\t\\t   \",\"\")\n",
    "        item['question']=item['question'].strip()\n",
    "        f16.write(json.dumps(item,ensure_ascii=False)+\"\\n\")\n",
    "f16.close()"
   ]
  },
  {
   "cell_type": "markdown",
   "id": "7b77ae5e",
   "metadata": {},
   "source": [
    "# 民法典-考题(Civil Code Exam Questions)"
   ]
  },
  {
   "cell_type": "code",
   "execution_count": 59,
   "id": "a7b62150",
   "metadata": {},
   "outputs": [],
   "source": [
    "df_mtext = pd.read_excel('minfadian.xlsx')\n",
    "fw_min = open(\"民法典考题.json\",\"w\",encoding='utf-8') \n",
    "for i in range(len(df_mtext)):\n",
    "    d = df_mtext.iloc[i]\n",
    "    URL = d[0] \n",
    "    question = d[1]\n",
    "    answer = d[2]\n",
    "    dw = {}\n",
    "    dw[\"URL\"] = URL\n",
    "    dw[\"question\"] = question\n",
    "    dw[\"answer\"] = answer\n",
    "    fw_min.write(json.dumps(dw,ensure_ascii=False)+\"\\n\")\n",
    "fw_min.close()"
   ]
  },
  {
   "cell_type": "code",
   "execution_count": 60,
   "id": "904a645d",
   "metadata": {},
   "outputs": [],
   "source": [
    "dsd = open(\"民法典考题.json\",'r',encoding='utf-8').readlines()\n",
    "f17 = open(\"民法典考题_clean.json\",\"w\",encoding='utf-8')\n",
    "for line in dsd:\n",
    "    item = json.loads(line)\n",
    "    if 'question' in item:\n",
    "        item['question']=item['question'].replace(\"所属题库：民法典\\t\\t\\t   \\n\\t\\t\\t   \\n\\t\\t\\t   \\n\\t\\t\\t   【单选】\\n        \\t\\t\\t\\t\\t   \",\"\")\n",
    "        item['question']=item['question'].replace(\"\\n\\t\\t\\t   \\t\\n\\t\\t\\t   \\n\\t\\t\\t   \\t\",\"  \")\n",
    "        item['question']=item['question'].replace(\"\\n\\t\\t\\t\\t\",\"  \")\n",
    "        item['question']=item['question'].replace(\"所属题库：民法典\\t\\t\\t   \\n\\t\\t\\t   \\n\\t\\t\\t   \\n\\t\\t\\t           \\t\\t 【多选】\\n        \\t\\t\\t\\t\\t   \",\"  \")\n",
    "        item['question']=item['question'].replace(\"            \\t \\n            \\t \",\"  \")\n",
    "        item['question']=item['question'].replace(\"所属题库：民法典\\t\\t\\t   \\n\\t\\t\\t   \\n\\t\\t\\t   \\n\\t\\t\\t           \\t\\t 【判断】\\t\\t\\t   \",\"  \")\n",
    "        item['question']=item['question'].strip()\n",
    "        f17.write(json.dumps(item,ensure_ascii=False)+\"\\n\")\n",
    "f17.close()"
   ]
  },
  {
   "cell_type": "markdown",
   "id": "2b6e28f9",
   "metadata": {},
   "source": [
    "# zy_2000_exam"
   ]
  },
  {
   "cell_type": "code",
   "execution_count": 61,
   "id": "97f090f4",
   "metadata": {},
   "outputs": [],
   "source": [
    "zy_2000_exam = pd.read_csv('zy_2000_exam.csv')\n",
    "\n",
    "f_zy_2000_exam = open(\"zy_2000_exam.json\",\"w\",encoding='utf-8')\n",
    "\n",
    "\n",
    "for i in range(len(zy_2000_exam)):\n",
    "    line = zy_2000_exam.iloc[i]\n",
    "    subject=line[0]\n",
    "    answer = line[3].replace(\"[\",\"\").replace(\"]\",\"\")\n",
    "    \n",
    "    if line[5]==\"\\n\":\n",
    "        output = \"答案: \"+ answer\n",
    "    else:\n",
    "        output = \"解析：\"+line[5]+\"答案: \"+ answer\n",
    "        \n",
    "    d = {\"input\":subject,\"target\":output}\n",
    "    f_zy_2000_exam.write(json.dumps(d,ensure_ascii=False) + \"\\n\")"
   ]
  },
  {
   "cell_type": "markdown",
   "id": "c4ee3583",
   "metadata": {},
   "source": [
    "# 司法考试(Judicial Examination)"
   ]
  },
  {
   "cell_type": "code",
   "execution_count": 63,
   "id": "8c96e783",
   "metadata": {},
   "outputs": [],
   "source": [
    "folder_path = \"/Users/shenxunyu/fakao\"\n",
    "file_names = os.listdir(folder_path)\n",
    " \n",
    "\n",
    "json_files = []\n",
    "f_fakao = open(\"f_fakao.json\",\"w\",encoding='utf-8')\n",
    "\n",
    "for file_name in file_names:\n",
    "        if file_name.endswith(\".json\"):\n",
    "            json_files.append(folder_path+\"/\"+file_name)\n",
    "\n",
    "\n",
    "read_fakao = []\n",
    "for i in json_files:\n",
    "    dsd_fa = open(i,'r',encoding='utf-8').readlines()\n",
    "    read_fakao += dsd_fa\n",
    "\n",
    "\n",
    "for i in range(len(read_fakao)):\n",
    "    if not read_fakao[i]:continue\n",
    "    try:\n",
    "        line = json.loads(read_fakao[i])\n",
    "    except:\n",
    "        print(json.loads(read_fakao[i]))\n",
    "        raise\n",
    "    q= line[\"Question\"]\n",
    "    o = line[\"Options\"]\n",
    "    choi = \"A. \"+o[\"a\"]+ \"\\nB. \"+o[\"b\"]+\"\\nC. \"+o[\"c\"]+\"\\nD. \"+o[\"d\"]\n",
    "    ans = re.sub(r\"\\[|\\]\",\"\",line[\"Answer\"][0])\n",
    "    explanation = line[\"Reason of Question\"]\n",
    "    explanation = re.sub(r\"【\",\"\",explanation)\n",
    "    explanation = re.sub(r\"】\",\": \",explanation)\n",
    "    inp =  q +\"\\n\"+ choi\n",
    "    oup = explanation+\"\\n答案：\"+ans\n",
    "    d = {\"input\":inp,\"target\":oup}\n",
    "    f_fakao.write(json.dumps(d,ensure_ascii=False) + \"\\n\")"
   ]
  }
 ],
 "metadata": {
  "kernelspec": {
   "display_name": "Python 3 (ipykernel)",
   "language": "python",
   "name": "python3"
  },
  "language_info": {
   "codemirror_mode": {
    "name": "ipython",
    "version": 3
   },
   "file_extension": ".py",
   "mimetype": "text/x-python",
   "name": "python",
   "nbconvert_exporter": "python",
   "pygments_lexer": "ipython3",
   "version": "3.10.9"
  }
 },
 "nbformat": 4,
 "nbformat_minor": 5
}
